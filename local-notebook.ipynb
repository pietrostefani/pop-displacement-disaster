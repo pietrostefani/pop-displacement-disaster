{
 "cells": [
  {
   "cell_type": "markdown",
   "id": "3d49e8d9-310f-4467-a089-bf4f4c21bb6c",
   "metadata": {
    "collapsed": false,
    "jupyter": {
     "outputs_hidden": false
    },
    "name": "cell1"
   },
   "source": [
    "# Project: Dynamic Estimates of Displacement in Disaster Regions: A Policy-Driven Framework Triangulating Data\n",
    "\n",
    "## Getting Started with Snowflake\n",
    "\n",
    "### Contents\n",
    "- Working in Snowflake\n",
    "- Working locally"
   ]
  },
  {
   "cell_type": "code",
   "execution_count": null,
   "id": "d3847c53-bcfb-4703-a77c-33b3cd315d68",
   "metadata": {},
   "outputs": [],
   "source": [
    "# Install Snowflake's Python API - Snowpark - in the current Jupyter kernel\n",
    "\n",
    "!pip install snowflake-snowpark-python"
   ]
  },
  {
   "cell_type": "markdown",
   "id": "8d771982-d5d5-4c87-b799-65a96084c83b",
   "metadata": {
    "name": "cell2"
   },
   "source": [
    "## Log into Snowflake Account\n",
    "(python 3.9 or 3.10 runtime options)\n",
    "\n",
    "This approach is by far the simplest way to get started\n",
    "- Log in to Snowflake account, open a notebook\n",
    "- Select packages from drop down (Streamlit & Snowpark are pre-installed)\n",
    "- Begin coding in SQL, Python & visualise interactive charts with streamlit\n",
    "\n",
    "- Option at a later point in time to commit Snowflake notebook to .ipynb file in a Git repo for local development\n",
    "\n",
    "[Snowflake Account Access](https://pietrostefani.github.io/pop-displacement-disaster/dataaccess.html)"
   ]
  },
  {
   "cell_type": "markdown",
   "id": "58fd7cd3",
   "metadata": {},
   "source": [
    "## Local Development\n",
    "\n",
    "You will to set up a Snowflake connection. Using Snowpark, data will be processed in Snowflak in Snowflake before the result is returned to you locally.\n",
    "\n",
    "Note:\n",
    "- you will need to manage your python environment\n",
    "- cannot run snowflake sql cells nor visualise streamlit charts"
   ]
  },
  {
   "cell_type": "code",
   "execution_count": null,
   "id": "cd7b13c4",
   "metadata": {},
   "outputs": [],
   "source": [
    "# create a Snowflake session\n",
    "from snowflake.snowpark import Session\n",
    "\n",
    "\n",
    "connection_params = {\n",
    "    \"account\": \"orgname-account_name\",  # get your login credentials from the `Snowflake Account Access` link above\n",
    "    \"user\": \"USER\",\n",
    "    \"password\": \"****\"\n",
    "}\n",
    "\n",
    "# create a session in Snowflake - this is your connection to the Snowflake environment\n",
    "\n",
    "session = Session.builder.configs(connection_params).create()"
   ]
  },
  {
   "cell_type": "markdown",
   "id": "d501e675-7105-4a5c-9594-6101dd180651",
   "metadata": {
    "collapsed": false,
    "jupyter": {
     "outputs_hidden": false
    },
    "name": "cell1"
   },
   "source": [
    "### Interacting with Snowflake Data\n",
    "[Snowflake documentation](https://docs.snowflake.com/en/developer-guide/snowpark/python/working-with-dataframes#label-snowpark-python-dataframe-construct)"
   ]
  },
  {
   "cell_type": "code",
   "execution_count": null,
   "id": "a5d9b893",
   "metadata": {},
   "outputs": [],
   "source": [
    "# use session.sql() to execute sql text\n",
    "\n",
    "query = \"\"\"\n",
    "SELECT TOP 10\n",
    "    *\n",
    "FROM PAKISTAN_FLOODS_2022_DATA.CONTEXTUAL_DATA.GRDI_PAKISTAN_GADM_ADMIN_L2\n",
    "\"\"\"\n",
    "\n",
    "session.sql(query).show()"
   ]
  },
  {
   "cell_type": "code",
   "execution_count": null,
   "id": "840f7132-96c1-4d0c-bca0-4f2d3d46d5ca",
   "metadata": {},
   "outputs": [],
   "source": [
    "# use Snowpark DataFrames to get the same result\n",
    "\n",
    "df = session.table(\"PAKISTAN_FLOODS_2022_DATA.CONTEXTUAL_DATA.GRDI_PAKISTAN_GADM_ADMIN_L2\").limit(10)\n",
    "\n",
    "df.show()"
   ]
  }
 ],
 "metadata": {
  "kernelspec": {
   "display_name": "Python 3 (ipykernel)",
   "language": "python",
   "name": "python3"
  },
  "language_info": {
   "codemirror_mode": {
    "name": "ipython",
    "version": 3
   },
   "file_extension": ".py",
   "mimetype": "text/x-python",
   "name": "python",
   "nbconvert_exporter": "python",
   "pygments_lexer": "ipython3",
   "version": "3.12.7"
  },
  "lastEditStatus": {
   "authorEmail": "euan.newlands@snowflake.com",
   "authorId": "3129855036889",
   "authorName": "ENEWLANDS",
   "lastEditTime": 1745837338095,
   "notebookId": "uzw3g6hoonwsmbqvdfq4",
   "sessionId": "7abb4667-6765-44aa-a4ac-c4256cf77a2a"
  }
 },
 "nbformat": 4,
 "nbformat_minor": 5
}
